{
 "cells": [
  {
   "cell_type": "code",
   "execution_count": 1,
   "id": "91a8da5d",
   "metadata": {},
   "outputs": [
    {
     "name": "stderr",
     "output_type": "stream",
     "text": [
      "2022-05-17 14:03:05.623839: I tensorflow/stream_executor/cuda/cuda_gpu_executor.cc:975] successful NUMA node read from SysFS had negative value (-1), but there must be at least one NUMA node, so returning NUMA node zero\n",
      "2022-05-17 14:03:05.629499: I tensorflow/stream_executor/cuda/cuda_gpu_executor.cc:975] successful NUMA node read from SysFS had negative value (-1), but there must be at least one NUMA node, so returning NUMA node zero\n",
      "2022-05-17 14:03:05.629924: I tensorflow/stream_executor/cuda/cuda_gpu_executor.cc:975] successful NUMA node read from SysFS had negative value (-1), but there must be at least one NUMA node, so returning NUMA node zero\n",
      "2022-05-17 14:03:05.646730: I tensorflow/core/platform/cpu_feature_guard.cc:193] This TensorFlow binary is optimized with oneAPI Deep Neural Network Library (oneDNN) to use the following CPU instructions in performance-critical operations:  AVX2 FMA\n",
      "To enable them in other operations, rebuild TensorFlow with the appropriate compiler flags.\n",
      "2022-05-17 14:03:05.647545: I tensorflow/stream_executor/cuda/cuda_gpu_executor.cc:975] successful NUMA node read from SysFS had negative value (-1), but there must be at least one NUMA node, so returning NUMA node zero\n",
      "2022-05-17 14:03:05.648023: I tensorflow/stream_executor/cuda/cuda_gpu_executor.cc:975] successful NUMA node read from SysFS had negative value (-1), but there must be at least one NUMA node, so returning NUMA node zero\n",
      "2022-05-17 14:03:05.648395: I tensorflow/stream_executor/cuda/cuda_gpu_executor.cc:975] successful NUMA node read from SysFS had negative value (-1), but there must be at least one NUMA node, so returning NUMA node zero\n",
      "2022-05-17 14:03:06.075855: I tensorflow/stream_executor/cuda/cuda_gpu_executor.cc:975] successful NUMA node read from SysFS had negative value (-1), but there must be at least one NUMA node, so returning NUMA node zero\n",
      "2022-05-17 14:03:06.076133: I tensorflow/stream_executor/cuda/cuda_gpu_executor.cc:975] successful NUMA node read from SysFS had negative value (-1), but there must be at least one NUMA node, so returning NUMA node zero\n",
      "2022-05-17 14:03:06.076344: I tensorflow/stream_executor/cuda/cuda_gpu_executor.cc:975] successful NUMA node read from SysFS had negative value (-1), but there must be at least one NUMA node, so returning NUMA node zero\n",
      "2022-05-17 14:03:06.076528: I tensorflow/core/common_runtime/gpu/gpu_device.cc:1532] Created device /job:localhost/replica:0/task:0/device:GPU:0 with 1024 MB memory:  -> device: 0, name: NVIDIA GeForce MX150, pci bus id: 0000:01:00.0, compute capability: 6.1\n"
     ]
    },
    {
     "name": "stdout",
     "output_type": "stream",
     "text": [
      "1 Physical GPUs, 1 Logical GPUs\n",
      "Model: \"vgg16\"\n",
      "_________________________________________________________________\n",
      " Layer (type)                Output Shape              Param #   \n",
      "=================================================================\n",
      " input_1 (InputLayer)        [(None, 150, 150, 3)]     0         \n",
      "                                                                 \n",
      " block1_conv1 (Conv2D)       (None, 150, 150, 64)      1792      \n",
      "                                                                 \n",
      " block1_conv2 (Conv2D)       (None, 150, 150, 64)      36928     \n",
      "                                                                 \n",
      " block1_pool (MaxPooling2D)  (None, 75, 75, 64)        0         \n",
      "                                                                 \n",
      " block2_conv1 (Conv2D)       (None, 75, 75, 128)       73856     \n",
      "                                                                 \n",
      " block2_conv2 (Conv2D)       (None, 75, 75, 128)       147584    \n",
      "                                                                 \n",
      " block2_pool (MaxPooling2D)  (None, 37, 37, 128)       0         \n",
      "                                                                 \n",
      " block3_conv1 (Conv2D)       (None, 37, 37, 256)       295168    \n",
      "                                                                 \n",
      " block3_conv2 (Conv2D)       (None, 37, 37, 256)       590080    \n",
      "                                                                 \n",
      " block3_conv3 (Conv2D)       (None, 37, 37, 256)       590080    \n",
      "                                                                 \n",
      " block3_pool (MaxPooling2D)  (None, 18, 18, 256)       0         \n",
      "                                                                 \n",
      " block4_conv1 (Conv2D)       (None, 18, 18, 512)       1180160   \n",
      "                                                                 \n",
      " block4_conv2 (Conv2D)       (None, 18, 18, 512)       2359808   \n",
      "                                                                 \n",
      " block4_conv3 (Conv2D)       (None, 18, 18, 512)       2359808   \n",
      "                                                                 \n",
      " block4_pool (MaxPooling2D)  (None, 9, 9, 512)         0         \n",
      "                                                                 \n",
      " block5_conv1 (Conv2D)       (None, 9, 9, 512)         2359808   \n",
      "                                                                 \n",
      " block5_conv2 (Conv2D)       (None, 9, 9, 512)         2359808   \n",
      "                                                                 \n",
      " block5_conv3 (Conv2D)       (None, 9, 9, 512)         2359808   \n",
      "                                                                 \n",
      " block5_pool (MaxPooling2D)  (None, 4, 4, 512)         0         \n",
      "                                                                 \n",
      "=================================================================\n",
      "Total params: 14,714,688\n",
      "Trainable params: 14,714,688\n",
      "Non-trainable params: 0\n",
      "_________________________________________________________________\n",
      "Found 2000 images belonging to 2 classes.\n"
     ]
    },
    {
     "name": "stderr",
     "output_type": "stream",
     "text": [
      "2022-05-17 14:03:06.918489: I tensorflow/stream_executor/cuda/cuda_dnn.cc:384] Loaded cuDNN version 8400\n",
      "2022-05-17 14:03:07.289064: I tensorflow/core/platform/default/subprocess.cc:304] Start cannot spawn child process: No such file or directory\n",
      "2022-05-17 14:03:07.691210: W tensorflow/core/common_runtime/bfc_allocator.cc:290] Allocator (GPU_0_bfc) ran out of memory trying to allocate 1004.77MiB with freed_by_count=0. The caller indicates that this is not a failure, but this may mean that there could be performance gains if more memory were available.\n",
      "2022-05-17 14:03:07.772215: W tensorflow/core/common_runtime/bfc_allocator.cc:290] Allocator (GPU_0_bfc) ran out of memory trying to allocate 828.81MiB with freed_by_count=0. The caller indicates that this is not a failure, but this may mean that there could be performance gains if more memory were available.\n",
      "2022-05-17 14:03:07.936644: W tensorflow/core/common_runtime/bfc_allocator.cc:290] Allocator (GPU_0_bfc) ran out of memory trying to allocate 1.19GiB with freed_by_count=0. The caller indicates that this is not a failure, but this may mean that there could be performance gains if more memory were available.\n",
      "2022-05-17 14:03:08.541334: W tensorflow/core/common_runtime/bfc_allocator.cc:290] Allocator (GPU_0_bfc) ran out of memory trying to allocate 1.13GiB with freed_by_count=0. The caller indicates that this is not a failure, but this may mean that there could be performance gains if more memory were available.\n",
      "2022-05-17 14:03:09.146814: W tensorflow/core/common_runtime/bfc_allocator.cc:290] Allocator (GPU_0_bfc) ran out of memory trying to allocate 1.12GiB with freed_by_count=0. The caller indicates that this is not a failure, but this may mean that there could be performance gains if more memory were available.\n",
      "2022-05-17 14:03:09.482904: W tensorflow/core/common_runtime/bfc_allocator.cc:290] Allocator (GPU_0_bfc) ran out of memory trying to allocate 1.16GiB with freed_by_count=0. The caller indicates that this is not a failure, but this may mean that there could be performance gains if more memory were available.\n",
      "2022-05-17 14:03:09.678959: W tensorflow/core/common_runtime/bfc_allocator.cc:290] Allocator (GPU_0_bfc) ran out of memory trying to allocate 1.16GiB with freed_by_count=0. The caller indicates that this is not a failure, but this may mean that there could be performance gains if more memory were available.\n"
     ]
    },
    {
     "name": "stdout",
     "output_type": "stream",
     "text": [
      "1/1 [==============================] - 3s 3s/step\n",
      "1/1 [==============================] - 0s 18ms/step\n",
      "1/1 [==============================] - 0s 17ms/step\n",
      "1/1 [==============================] - 0s 18ms/step\n",
      "1/1 [==============================] - 0s 17ms/step\n",
      "1/1 [==============================] - 0s 18ms/step\n",
      "1/1 [==============================] - 0s 18ms/step\n",
      "1/1 [==============================] - 0s 17ms/step\n",
      "1/1 [==============================] - 0s 18ms/step\n",
      "1/1 [==============================] - 0s 16ms/step\n",
      "1/1 [==============================] - 0s 17ms/step\n",
      "1/1 [==============================] - 0s 18ms/step\n",
      "1/1 [==============================] - 0s 16ms/step\n",
      "1/1 [==============================] - 0s 16ms/step\n",
      "1/1 [==============================] - 0s 16ms/step\n",
      "1/1 [==============================] - 0s 23ms/step\n",
      "1/1 [==============================] - 0s 18ms/step\n",
      "1/1 [==============================] - 0s 16ms/step\n",
      "1/1 [==============================] - 0s 16ms/step\n",
      "1/1 [==============================] - 0s 19ms/step\n",
      "1/1 [==============================] - 0s 16ms/step\n",
      "1/1 [==============================] - 0s 16ms/step\n",
      "1/1 [==============================] - 0s 16ms/step\n",
      "1/1 [==============================] - 0s 16ms/step\n",
      "1/1 [==============================] - 0s 16ms/step\n",
      "1/1 [==============================] - 0s 16ms/step\n",
      "1/1 [==============================] - 0s 16ms/step\n",
      "1/1 [==============================] - 0s 16ms/step\n",
      "1/1 [==============================] - 0s 16ms/step\n",
      "1/1 [==============================] - 0s 17ms/step\n",
      "1/1 [==============================] - 0s 17ms/step\n",
      "1/1 [==============================] - 0s 17ms/step\n",
      "1/1 [==============================] - 0s 16ms/step\n",
      "1/1 [==============================] - 0s 16ms/step\n",
      "1/1 [==============================] - 0s 16ms/step\n",
      "1/1 [==============================] - 0s 16ms/step\n",
      "1/1 [==============================] - 0s 15ms/step\n",
      "1/1 [==============================] - 0s 16ms/step\n",
      "1/1 [==============================] - 0s 16ms/step\n",
      "1/1 [==============================] - 0s 15ms/step\n",
      "1/1 [==============================] - 0s 17ms/step\n",
      "1/1 [==============================] - 0s 16ms/step\n",
      "1/1 [==============================] - 0s 18ms/step\n",
      "1/1 [==============================] - 0s 16ms/step\n",
      "1/1 [==============================] - 0s 17ms/step\n",
      "1/1 [==============================] - 0s 16ms/step\n",
      "1/1 [==============================] - 0s 16ms/step\n",
      "1/1 [==============================] - 0s 16ms/step\n",
      "1/1 [==============================] - 0s 16ms/step\n",
      "1/1 [==============================] - 0s 16ms/step\n",
      "1/1 [==============================] - 0s 16ms/step\n",
      "1/1 [==============================] - 0s 17ms/step\n",
      "1/1 [==============================] - 0s 16ms/step\n",
      "1/1 [==============================] - 0s 16ms/step\n",
      "1/1 [==============================] - 0s 16ms/step\n",
      "1/1 [==============================] - 0s 16ms/step\n",
      "1/1 [==============================] - 0s 16ms/step\n",
      "1/1 [==============================] - 0s 16ms/step\n",
      "1/1 [==============================] - 0s 16ms/step\n",
      "1/1 [==============================] - 0s 16ms/step\n",
      "1/1 [==============================] - 0s 16ms/step\n",
      "1/1 [==============================] - 0s 16ms/step\n",
      "1/1 [==============================] - 0s 17ms/step\n",
      "1/1 [==============================] - 0s 16ms/step\n",
      "1/1 [==============================] - 0s 16ms/step\n",
      "1/1 [==============================] - 0s 16ms/step\n",
      "1/1 [==============================] - 0s 18ms/step\n",
      "1/1 [==============================] - 0s 16ms/step\n",
      "1/1 [==============================] - 0s 16ms/step\n",
      "1/1 [==============================] - 0s 19ms/step\n",
      "1/1 [==============================] - 0s 17ms/step\n",
      "1/1 [==============================] - 0s 17ms/step\n",
      "1/1 [==============================] - 0s 16ms/step\n",
      "1/1 [==============================] - 0s 16ms/step\n",
      "1/1 [==============================] - 0s 16ms/step\n",
      "1/1 [==============================] - 0s 16ms/step\n",
      "1/1 [==============================] - 0s 16ms/step\n",
      "1/1 [==============================] - 0s 16ms/step\n",
      "1/1 [==============================] - 0s 16ms/step\n",
      "1/1 [==============================] - 0s 16ms/step\n",
      "1/1 [==============================] - 0s 16ms/step\n",
      "1/1 [==============================] - 0s 16ms/step\n",
      "1/1 [==============================] - 0s 16ms/step\n",
      "1/1 [==============================] - 0s 16ms/step\n",
      "1/1 [==============================] - 0s 16ms/step\n",
      "1/1 [==============================] - 0s 16ms/step\n",
      "1/1 [==============================] - 0s 16ms/step\n",
      "1/1 [==============================] - 0s 16ms/step\n",
      "1/1 [==============================] - 0s 16ms/step\n",
      "1/1 [==============================] - 0s 16ms/step\n",
      "1/1 [==============================] - 0s 16ms/step\n",
      "1/1 [==============================] - 0s 16ms/step\n",
      "1/1 [==============================] - 0s 16ms/step\n",
      "1/1 [==============================] - 0s 16ms/step\n",
      "1/1 [==============================] - 0s 16ms/step\n",
      "1/1 [==============================] - 0s 16ms/step\n",
      "1/1 [==============================] - 0s 18ms/step\n",
      "1/1 [==============================] - 0s 16ms/step\n",
      "1/1 [==============================] - 0s 16ms/step\n",
      "1/1 [==============================] - 0s 15ms/step\n",
      "Found 1000 images belonging to 2 classes.\n",
      "1/1 [==============================] - 0s 16ms/step\n",
      "1/1 [==============================] - 0s 16ms/step\n",
      "1/1 [==============================] - 0s 16ms/step\n",
      "1/1 [==============================] - 0s 17ms/step\n",
      "1/1 [==============================] - 0s 16ms/step\n",
      "1/1 [==============================] - 0s 16ms/step\n",
      "1/1 [==============================] - 0s 16ms/step\n",
      "1/1 [==============================] - 0s 17ms/step\n",
      "1/1 [==============================] - 0s 16ms/step\n",
      "1/1 [==============================] - 0s 16ms/step\n",
      "1/1 [==============================] - 0s 16ms/step\n",
      "1/1 [==============================] - 0s 16ms/step\n",
      "1/1 [==============================] - 0s 16ms/step\n",
      "1/1 [==============================] - 0s 17ms/step\n",
      "1/1 [==============================] - 0s 16ms/step\n",
      "1/1 [==============================] - 0s 16ms/step\n",
      "1/1 [==============================] - 0s 16ms/step\n",
      "1/1 [==============================] - 0s 16ms/step\n",
      "1/1 [==============================] - 0s 16ms/step\n",
      "1/1 [==============================] - 0s 16ms/step\n",
      "1/1 [==============================] - 0s 16ms/step\n",
      "1/1 [==============================] - 0s 16ms/step\n",
      "1/1 [==============================] - 0s 17ms/step\n",
      "1/1 [==============================] - 0s 16ms/step\n",
      "1/1 [==============================] - 0s 16ms/step\n",
      "1/1 [==============================] - 0s 16ms/step\n",
      "1/1 [==============================] - 0s 16ms/step\n",
      "1/1 [==============================] - 0s 16ms/step\n",
      "1/1 [==============================] - 0s 16ms/step\n",
      "1/1 [==============================] - 0s 16ms/step\n",
      "1/1 [==============================] - 0s 16ms/step\n",
      "1/1 [==============================] - 0s 15ms/step\n",
      "1/1 [==============================] - 0s 16ms/step\n",
      "1/1 [==============================] - 0s 16ms/step\n",
      "1/1 [==============================] - 0s 16ms/step\n",
      "1/1 [==============================] - 0s 16ms/step\n",
      "1/1 [==============================] - 0s 17ms/step\n",
      "1/1 [==============================] - 0s 16ms/step\n",
      "1/1 [==============================] - 0s 16ms/step\n",
      "1/1 [==============================] - 0s 16ms/step\n",
      "1/1 [==============================] - 0s 17ms/step\n",
      "1/1 [==============================] - 0s 16ms/step\n",
      "1/1 [==============================] - 0s 16ms/step\n",
      "1/1 [==============================] - 0s 16ms/step\n",
      "1/1 [==============================] - 0s 17ms/step\n",
      "1/1 [==============================] - 0s 16ms/step\n",
      "1/1 [==============================] - 0s 16ms/step\n",
      "1/1 [==============================] - 0s 16ms/step\n",
      "1/1 [==============================] - 0s 16ms/step\n",
      "1/1 [==============================] - 0s 16ms/step\n",
      "Found 1000 images belonging to 2 classes.\n",
      "1/1 [==============================] - 0s 16ms/step\n",
      "1/1 [==============================] - 0s 16ms/step\n",
      "1/1 [==============================] - 0s 16ms/step\n",
      "1/1 [==============================] - 0s 16ms/step\n",
      "1/1 [==============================] - 0s 16ms/step\n",
      "1/1 [==============================] - 0s 16ms/step\n"
     ]
    },
    {
     "name": "stdout",
     "output_type": "stream",
     "text": [
      "1/1 [==============================] - 0s 16ms/step\n",
      "1/1 [==============================] - 0s 16ms/step\n",
      "1/1 [==============================] - 0s 16ms/step\n",
      "1/1 [==============================] - 0s 16ms/step\n",
      "1/1 [==============================] - 0s 16ms/step\n",
      "1/1 [==============================] - 0s 16ms/step\n",
      "1/1 [==============================] - 0s 16ms/step\n",
      "1/1 [==============================] - 0s 16ms/step\n",
      "1/1 [==============================] - 0s 16ms/step\n",
      "1/1 [==============================] - 0s 16ms/step\n",
      "1/1 [==============================] - 0s 16ms/step\n",
      "1/1 [==============================] - 0s 16ms/step\n",
      "1/1 [==============================] - 0s 16ms/step\n",
      "1/1 [==============================] - 0s 16ms/step\n",
      "1/1 [==============================] - 0s 16ms/step\n",
      "1/1 [==============================] - 0s 16ms/step\n",
      "1/1 [==============================] - 0s 16ms/step\n",
      "1/1 [==============================] - 0s 16ms/step\n",
      "1/1 [==============================] - 0s 16ms/step\n",
      "1/1 [==============================] - 0s 16ms/step\n",
      "1/1 [==============================] - 0s 16ms/step\n",
      "1/1 [==============================] - 0s 16ms/step\n",
      "1/1 [==============================] - 0s 16ms/step\n",
      "1/1 [==============================] - 0s 15ms/step\n",
      "1/1 [==============================] - 0s 16ms/step\n",
      "1/1 [==============================] - 0s 16ms/step\n",
      "1/1 [==============================] - 0s 16ms/step\n",
      "1/1 [==============================] - 0s 16ms/step\n",
      "1/1 [==============================] - 0s 16ms/step\n",
      "1/1 [==============================] - 0s 16ms/step\n",
      "1/1 [==============================] - 0s 16ms/step\n",
      "1/1 [==============================] - 0s 15ms/step\n",
      "1/1 [==============================] - 0s 16ms/step\n",
      "1/1 [==============================] - 0s 16ms/step\n",
      "1/1 [==============================] - 0s 16ms/step\n",
      "1/1 [==============================] - 0s 16ms/step\n",
      "1/1 [==============================] - 0s 16ms/step\n",
      "1/1 [==============================] - 0s 16ms/step\n",
      "1/1 [==============================] - 0s 16ms/step\n",
      "1/1 [==============================] - 0s 16ms/step\n",
      "1/1 [==============================] - 0s 16ms/step\n",
      "1/1 [==============================] - 0s 16ms/step\n",
      "1/1 [==============================] - 0s 16ms/step\n",
      "1/1 [==============================] - 0s 16ms/step\n"
     ]
    }
   ],
   "source": [
    "import tensorflow as tf\n",
    "\n",
    "# gpus = tf.config.experimental.list_physical_devices(device_type='GPU')\n",
    "# tf.config.experimental.set_memory_growth(gpus[0], True)\n",
    "\n",
    "gpus = tf.config.list_physical_devices('GPU')\n",
    "if gpus:\n",
    "  # Restrict TensorFlow to only allocate 1GB of memory on the first GPU\n",
    "  try:\n",
    "    tf.config.set_logical_device_configuration(\n",
    "        gpus[0],\n",
    "        [tf.config.LogicalDeviceConfiguration(memory_limit=1024)])\n",
    "    logical_gpus = tf.config.list_logical_devices('GPU')\n",
    "    print(len(gpus), \"Physical GPUs,\", len(logical_gpus), \"Logical GPUs\")\n",
    "  except RuntimeError as e:\n",
    "    # Virtual devices must be set before GPUs have been initialized\n",
    "    print(e)\n",
    "\n",
    "from keras.applications import VGG16\n",
    "\n",
    "conv_base = VGG16(weights='imagenet',\n",
    "                  include_top=False,\n",
    "                  input_shape=(150, 150, 3))\n",
    "conv_base.summary()\n",
    "\n",
    "import os\n",
    "import numpy as np\n",
    "from keras.preprocessing.image import ImageDataGenerator\n",
    "\n",
    "base_dir = '/home/cyp/ml/dataset/dogs-vs-cats/data_small'\n",
    "train_dir = os.path.join(base_dir, 'train')\n",
    "validation_dir = os.path.join(base_dir, 'validation')\n",
    "test_dir = os.path.join(base_dir, 'test')\n",
    "\n",
    "datagen = ImageDataGenerator(rescale=1./255)\n",
    "batch_size = 20\n",
    "\n",
    "def extract_features(directory, sample_count):\n",
    "    features = np.zeros(shape=(sample_count, 4, 4, 512))\n",
    "    labels = np.zeros(shape=(sample_count))\n",
    "    generator = datagen.flow_from_directory(\n",
    "        directory,\n",
    "        target_size=(150,150),\n",
    "        batch_size=batch_size,\n",
    "        class_mode='binary')\n",
    "    i = 0\n",
    "    for inputs_batch, labels_batch in generator:\n",
    "        features_batch = conv_base.predict(inputs_batch)\n",
    "        features[i * batch_size : (i + 1) * batch_size] = features_batch\n",
    "        labels[i * batch_size : (i + 1) * batch_size] = labels_batch\n",
    "        i += 1\n",
    "        if i * batch_size >= sample_count:\n",
    "            break\n",
    "\n",
    "    return features, labels\n",
    "\n",
    "\n",
    "train_features, train_labels = extract_features(train_dir, 2000)\n",
    "validation_features, validation_labels = extract_features(validation_dir, 1000)\n",
    "test_features, test_labels = extract_features(test_dir, 1000)"
   ]
  },
  {
   "cell_type": "code",
   "execution_count": 2,
   "id": "f6fbac67",
   "metadata": {},
   "outputs": [
    {
     "name": "stdout",
     "output_type": "stream",
     "text": [
      "train_features shape:  (2000, 4, 4, 512)\n",
      "train_labels shape:  (2000,)\n",
      "validation_features shape:  (1000, 4, 4, 512)\n",
      "validation_labels shape:  (1000,)\n",
      "test_features shape:  (1000, 4, 4, 512)\n",
      "test_labels shape:  (1000,)\n"
     ]
    }
   ],
   "source": [
    "print('train_features shape: ', train_features.shape)\n",
    "print('train_labels shape: ', train_labels.shape)\n",
    "print('validation_features shape: ', validation_features.shape)\n",
    "print('validation_labels shape: ', validation_labels.shape)\n",
    "print('test_features shape: ', test_features.shape)\n",
    "print('test_labels shape: ', test_labels.shape)"
   ]
  },
  {
   "cell_type": "code",
   "execution_count": 4,
   "id": "f86457be",
   "metadata": {},
   "outputs": [
    {
     "name": "stdout",
     "output_type": "stream",
     "text": [
      "Epoch 1/30\n",
      "100/100 [==============================] - 1s 9ms/step - loss: 0.6044 - acc: 0.6630 - val_loss: 0.4321 - val_acc: 0.8390\n",
      "Epoch 2/30\n",
      "100/100 [==============================] - 1s 8ms/step - loss: 0.4222 - acc: 0.8120 - val_loss: 0.3676 - val_acc: 0.8550\n",
      "Epoch 3/30\n",
      "100/100 [==============================] - 1s 8ms/step - loss: 0.3536 - acc: 0.8510 - val_loss: 0.3222 - val_acc: 0.8730\n",
      "Epoch 4/30\n",
      "100/100 [==============================] - 1s 8ms/step - loss: 0.3052 - acc: 0.8755 - val_loss: 0.3040 - val_acc: 0.8830\n",
      "Epoch 5/30\n",
      "100/100 [==============================] - 1s 8ms/step - loss: 0.2938 - acc: 0.8715 - val_loss: 0.2837 - val_acc: 0.8900\n",
      "Epoch 6/30\n",
      "100/100 [==============================] - 1s 8ms/step - loss: 0.2598 - acc: 0.8980 - val_loss: 0.2703 - val_acc: 0.8930\n",
      "Epoch 7/30\n",
      "100/100 [==============================] - 1s 8ms/step - loss: 0.2436 - acc: 0.9030 - val_loss: 0.2646 - val_acc: 0.8980\n",
      "Epoch 8/30\n",
      "100/100 [==============================] - 1s 8ms/step - loss: 0.2319 - acc: 0.9070 - val_loss: 0.2584 - val_acc: 0.8960\n",
      "Epoch 9/30\n",
      "100/100 [==============================] - 1s 8ms/step - loss: 0.2164 - acc: 0.9165 - val_loss: 0.2553 - val_acc: 0.9010\n",
      "Epoch 10/30\n",
      "100/100 [==============================] - 1s 8ms/step - loss: 0.2117 - acc: 0.9200 - val_loss: 0.2495 - val_acc: 0.9020\n",
      "Epoch 11/30\n",
      "100/100 [==============================] - 1s 8ms/step - loss: 0.1898 - acc: 0.9315 - val_loss: 0.2458 - val_acc: 0.9000\n",
      "Epoch 12/30\n",
      "100/100 [==============================] - 1s 8ms/step - loss: 0.1843 - acc: 0.9315 - val_loss: 0.2435 - val_acc: 0.9030\n",
      "Epoch 13/30\n",
      "100/100 [==============================] - 1s 8ms/step - loss: 0.1736 - acc: 0.9405 - val_loss: 0.2452 - val_acc: 0.9010\n",
      "Epoch 14/30\n",
      "100/100 [==============================] - 1s 8ms/step - loss: 0.1695 - acc: 0.9425 - val_loss: 0.2410 - val_acc: 0.9040\n",
      "Epoch 15/30\n",
      "100/100 [==============================] - 1s 8ms/step - loss: 0.1648 - acc: 0.9415 - val_loss: 0.2444 - val_acc: 0.8990\n",
      "Epoch 16/30\n",
      "100/100 [==============================] - 1s 8ms/step - loss: 0.1565 - acc: 0.9425 - val_loss: 0.2447 - val_acc: 0.8980\n",
      "Epoch 17/30\n",
      "100/100 [==============================] - 1s 8ms/step - loss: 0.1438 - acc: 0.9515 - val_loss: 0.2356 - val_acc: 0.9000\n",
      "Epoch 18/30\n",
      "100/100 [==============================] - 1s 8ms/step - loss: 0.1380 - acc: 0.9540 - val_loss: 0.2344 - val_acc: 0.9030\n",
      "Epoch 19/30\n",
      "100/100 [==============================] - 1s 8ms/step - loss: 0.1293 - acc: 0.9550 - val_loss: 0.2375 - val_acc: 0.9030\n",
      "Epoch 20/30\n",
      "100/100 [==============================] - 1s 8ms/step - loss: 0.1313 - acc: 0.9560 - val_loss: 0.2348 - val_acc: 0.9050\n",
      "Epoch 21/30\n",
      "100/100 [==============================] - 1s 8ms/step - loss: 0.1241 - acc: 0.9625 - val_loss: 0.2345 - val_acc: 0.9040\n",
      "Epoch 22/30\n",
      "100/100 [==============================] - 1s 8ms/step - loss: 0.1201 - acc: 0.9630 - val_loss: 0.2342 - val_acc: 0.9060\n",
      "Epoch 23/30\n",
      "100/100 [==============================] - 1s 8ms/step - loss: 0.1123 - acc: 0.9620 - val_loss: 0.2471 - val_acc: 0.9040\n",
      "Epoch 24/30\n",
      "100/100 [==============================] - 1s 8ms/step - loss: 0.1085 - acc: 0.9660 - val_loss: 0.2390 - val_acc: 0.9000\n",
      "Epoch 25/30\n",
      "100/100 [==============================] - 1s 8ms/step - loss: 0.1030 - acc: 0.9650 - val_loss: 0.2368 - val_acc: 0.9030\n",
      "Epoch 26/30\n",
      "100/100 [==============================] - 1s 8ms/step - loss: 0.1025 - acc: 0.9620 - val_loss: 0.2363 - val_acc: 0.9040\n",
      "Epoch 27/30\n",
      "100/100 [==============================] - 1s 8ms/step - loss: 0.0957 - acc: 0.9700 - val_loss: 0.2373 - val_acc: 0.9030\n",
      "Epoch 28/30\n",
      "100/100 [==============================] - 1s 8ms/step - loss: 0.0937 - acc: 0.9700 - val_loss: 0.2424 - val_acc: 0.9030\n",
      "Epoch 29/30\n",
      "100/100 [==============================] - 1s 8ms/step - loss: 0.0859 - acc: 0.9740 - val_loss: 0.2396 - val_acc: 0.9010\n",
      "Epoch 30/30\n",
      "100/100 [==============================] - 1s 8ms/step - loss: 0.0860 - acc: 0.9725 - val_loss: 0.2416 - val_acc: 0.8980\n"
     ]
    }
   ],
   "source": [
    "# 将形状 (samples, 4, 4, 512) 展平为形状 (samples, 8192)\n",
    "train_features = np.reshape(train_features, (2000, 4 * 4 * 512))\n",
    "validation_features = np.reshape(validation_features, (1000, 4 * 4 * 512))\n",
    "test_features = np.reshape(test_features, (1000, 4 * 4 * 512))\n",
    "\n",
    "# 定义并训练密集连接分类器\n",
    "from keras import models\n",
    "from keras import layers\n",
    "from keras import  optimizers\n",
    "\n",
    "model = models.Sequential()\n",
    "model.add(layers.Dense(256, activation='relu', input_dim=4 * 4 * 512))\n",
    "model.add(layers.Dropout(0.5))\n",
    "model.add(layers.Dense(1, activation='sigmoid'))\n",
    "\n",
    "model.compile(optimizer=optimizers.RMSprop(learning_rate=2e-5),\n",
    "              loss='binary_crossentropy',\n",
    "              metrics=['acc'])\n",
    "\n",
    "history = model.fit(train_features, train_labels,\n",
    "                    epochs=30,\n",
    "                    batch_size=20,\n",
    "                    validation_data=(validation_features, validation_labels))"
   ]
  },
  {
   "cell_type": "code",
   "execution_count": 6,
   "id": "2a177c2f",
   "metadata": {},
   "outputs": [
    {
     "data": {
      "image/png": "[encoded data removed]",
      "text/plain": [
       "<Figure size 432x288 with 1 Axes>"
      ]
     },
     "metadata": {
      "needs_background": "light"
     },
     "output_type": "display_data"
    },
    {
     "data": {
      "image/png": "[encoded data removed]",
      "text/plain": [
       "<Figure size 432x288 with 1 Axes>"
      ]
     },
     "metadata": {
      "needs_background": "light"
     },
     "output_type": "display_data"
    }
   ],
   "source": [
    "# 绘制结果\n",
    "import matplotlib.pyplot as plt\n",
    "\n",
    "acc = history.history['acc']\n",
    "val_acc = history.history['val_acc']\n",
    "loss = history.history['loss']\n",
    "val_loss = history.history['val_loss']\n",
    "\n",
    "epochs = range(1, len(acc) + 1)\n",
    "\n",
    "plt.plot(epochs, acc, 'bo', label='Traning acc')\n",
    "plt.plot(epochs, val_acc, 'b', label='Valicdation acc')\n",
    "plt.title('Traning and validation accuracy')\n",
    "plt.legend()\n",
    "\n",
    "plt.figure()\n",
    "\n",
    "plt.plot(epochs, loss, 'bo', label='Traning loss')\n",
    "plt.plot(epochs, val_loss, 'b', label='Valicdation loss')\n",
    "plt.title('Traning and validation loss')\n",
    "plt.legend()\n",
    "\n",
    "plt.show()"
   ]
  },
  {
   "cell_type": "markdown",
   "id": "c28cc7d2",
   "metadata": {},
   "source": [
    "### 使用数据增强进行特征提取\n",
    "\n",
    "在卷积积上添加一个密集连接分类器"
   ]
  },
  {
   "cell_type": "code",
   "execution_count": 7,
   "id": "c5fefc44",
   "metadata": {},
   "outputs": [
    {
     "name": "stdout",
     "output_type": "stream",
     "text": [
      "Model: \"sequential_2\"\n",
      "_________________________________________________________________\n",
      " Layer (type)                Output Shape              Param #   \n",
      "=================================================================\n",
      " vgg16 (Functional)          (None, 4, 4, 512)         14714688  \n",
      "                                                                 \n",
      " flatten (Flatten)           (None, 8192)              0         \n",
      "                                                                 \n",
      " dense_4 (Dense)             (None, 256)               2097408   \n",
      "                                                                 \n",
      " dense_5 (Dense)             (None, 1)                 257       \n",
      "                                                                 \n",
      "=================================================================\n",
      "Total params: 16,812,353\n",
      "Trainable params: 16,812,353\n",
      "Non-trainable params: 0\n",
      "_________________________________________________________________\n"
     ]
    }
   ],
   "source": [
    "model = models.Sequential()\n",
    "model.add(conv_base)\n",
    "model.add(layers.Flatten())\n",
    "model.add(layers.Dense(256, activation='relu'))\n",
    "model.add(layers.Dense(1, activation='sigmoid'))\n",
    "\n",
    "model.summary()"
   ]
  },
  {
   "cell_type": "code",
   "execution_count": 9,
   "id": "a25ddf8a",
   "metadata": {},
   "outputs": [
    {
     "name": "stdout",
     "output_type": "stream",
     "text": [
      "This is the number of trainable weights before freezing conv base:  30\n",
      "This is the number of trainable weights after freezing conv base:  4\n"
     ]
    }
   ],
   "source": [
    "print('This is the number of trainable weights before freezing conv base: ', len(model.trainable_weights))\n",
    "\n",
    "conv_base.trainable=False\n",
    "\n",
    "print('This is the number of trainable weights after freezing conv base: ', len(model.trainable_weights))"
   ]
  },
  {
   "cell_type": "code",
   "execution_count": 13,
   "id": "b46cd98a",
   "metadata": {},
   "outputs": [
    {
     "name": "stdout",
     "output_type": "stream",
     "text": [
      "Found 2000 images belonging to 2 classes.\n",
      "Found 1000 images belonging to 2 classes.\n",
      "Epoch 1/30\n"
     ]
    },
    {
     "name": "stderr",
     "output_type": "stream",
     "text": [
      "/tmp/ipykernel_26460/1661218884.py:29: UserWarning: `Model.fit_generator` is deprecated and will be removed in a future version. Please use `Model.fit`, which supports generators.\n",
      "  history = model.fit_generator(\n"
     ]
    },
    {
     "name": "stdout",
     "output_type": "stream",
     "text": [
      "100/100 [==============================] - 54s 540ms/step - loss: 0.4037 - acc: 0.8250 - val_loss: 0.3118 - val_acc: 0.8800\n",
      "Epoch 2/30\n",
      "100/100 [==============================] - 54s 539ms/step - loss: 0.3805 - acc: 0.8330 - val_loss: 0.3033 - val_acc: 0.8680\n",
      "Epoch 3/30\n",
      "100/100 [==============================] - 54s 539ms/step - loss: 0.3715 - acc: 0.8450 - val_loss: 0.2828 - val_acc: 0.8850\n",
      "Epoch 4/30\n",
      "100/100 [==============================] - 54s 539ms/step - loss: 0.3562 - acc: 0.8455 - val_loss: 0.2766 - val_acc: 0.8870\n",
      "Epoch 5/30\n",
      "100/100 [==============================] - 54s 539ms/step - loss: 0.3568 - acc: 0.8345 - val_loss: 0.2783 - val_acc: 0.8910\n",
      "Epoch 6/30\n",
      "100/100 [==============================] - 54s 540ms/step - loss: 0.3468 - acc: 0.8435 - val_loss: 0.2669 - val_acc: 0.8920\n",
      "Epoch 7/30\n",
      "100/100 [==============================] - 54s 539ms/step - loss: 0.3439 - acc: 0.8400 - val_loss: 0.2676 - val_acc: 0.8930\n",
      "Epoch 8/30\n",
      "100/100 [==============================] - 54s 539ms/step - loss: 0.3207 - acc: 0.8620 - val_loss: 0.2568 - val_acc: 0.9030\n",
      "Epoch 9/30\n",
      "100/100 [==============================] - 54s 540ms/step - loss: 0.3333 - acc: 0.8610 - val_loss: 0.2536 - val_acc: 0.8990\n",
      "Epoch 10/30\n",
      "100/100 [==============================] - 54s 539ms/step - loss: 0.3172 - acc: 0.8580 - val_loss: 0.2518 - val_acc: 0.9080\n",
      "Epoch 11/30\n",
      "100/100 [==============================] - 54s 539ms/step - loss: 0.3133 - acc: 0.8565 - val_loss: 0.2483 - val_acc: 0.9030\n",
      "Epoch 12/30\n",
      "100/100 [==============================] - 54s 540ms/step - loss: 0.3245 - acc: 0.8590 - val_loss: 0.2582 - val_acc: 0.8900\n",
      "Epoch 13/30\n",
      "100/100 [==============================] - 54s 539ms/step - loss: 0.3088 - acc: 0.8600 - val_loss: 0.2466 - val_acc: 0.9040\n",
      "Epoch 14/30\n",
      "100/100 [==============================] - 54s 540ms/step - loss: 0.3166 - acc: 0.8625 - val_loss: 0.2454 - val_acc: 0.9040\n",
      "Epoch 15/30\n",
      "100/100 [==============================] - 54s 539ms/step - loss: 0.3176 - acc: 0.8590 - val_loss: 0.2449 - val_acc: 0.9000\n",
      "Epoch 16/30\n",
      "100/100 [==============================] - 54s 539ms/step - loss: 0.3122 - acc: 0.8540 - val_loss: 0.2477 - val_acc: 0.9010\n",
      "Epoch 17/30\n",
      "100/100 [==============================] - 54s 539ms/step - loss: 0.3005 - acc: 0.8635 - val_loss: 0.2476 - val_acc: 0.9030\n",
      "Epoch 18/30\n",
      "100/100 [==============================] - 54s 539ms/step - loss: 0.2985 - acc: 0.8745 - val_loss: 0.2599 - val_acc: 0.8930\n",
      "Epoch 19/30\n",
      "100/100 [==============================] - 54s 539ms/step - loss: 0.2902 - acc: 0.8820 - val_loss: 0.2409 - val_acc: 0.9090\n",
      "Epoch 20/30\n",
      "100/100 [==============================] - 54s 540ms/step - loss: 0.2958 - acc: 0.8710 - val_loss: 0.2387 - val_acc: 0.9060\n",
      "Epoch 21/30\n",
      "100/100 [==============================] - 54s 539ms/step - loss: 0.3066 - acc: 0.8705 - val_loss: 0.2362 - val_acc: 0.9070\n",
      "Epoch 22/30\n",
      "100/100 [==============================] - 54s 539ms/step - loss: 0.2862 - acc: 0.8825 - val_loss: 0.2378 - val_acc: 0.9070\n",
      "Epoch 23/30\n",
      "100/100 [==============================] - 54s 539ms/step - loss: 0.2852 - acc: 0.8815 - val_loss: 0.2433 - val_acc: 0.9010\n",
      "Epoch 24/30\n",
      "100/100 [==============================] - 54s 539ms/step - loss: 0.2943 - acc: 0.8735 - val_loss: 0.2420 - val_acc: 0.9040\n",
      "Epoch 25/30\n",
      "100/100 [==============================] - 54s 539ms/step - loss: 0.2808 - acc: 0.8750 - val_loss: 0.2359 - val_acc: 0.9000\n",
      "Epoch 26/30\n",
      "100/100 [==============================] - 54s 539ms/step - loss: 0.2898 - acc: 0.8805 - val_loss: 0.2328 - val_acc: 0.9020\n",
      "Epoch 27/30\n",
      "100/100 [==============================] - 54s 540ms/step - loss: 0.2694 - acc: 0.8870 - val_loss: 0.2635 - val_acc: 0.8930\n",
      "Epoch 28/30\n",
      "100/100 [==============================] - 54s 539ms/step - loss: 0.2780 - acc: 0.8855 - val_loss: 0.2610 - val_acc: 0.8960\n",
      "Epoch 29/30\n",
      "100/100 [==============================] - 54s 539ms/step - loss: 0.2852 - acc: 0.8750 - val_loss: 0.2359 - val_acc: 0.9080\n",
      "Epoch 30/30\n",
      "100/100 [==============================] - 54s 539ms/step - loss: 0.2743 - acc: 0.8790 - val_loss: 0.2397 - val_acc: 0.9000\n"
     ]
    }
   ],
   "source": [
    "train_datagen = ImageDataGenerator(\n",
    "    rescale=1./255,\n",
    "    rotation_range=40,\n",
    "    width_shift_range=0.2,\n",
    "    height_shift_range=0.2,\n",
    "    shear_range=0.2,\n",
    "    zoom_range=0.2,\n",
    "    horizontal_flip=True,\n",
    "    fill_mode='nearest')\n",
    "\n",
    "test_datagen = ImageDataGenerator(rescale=1./255) # 注意不能增强验证数据\n",
    "\n",
    "train_generator = train_datagen.flow_from_directory(\n",
    "    train_dir,\n",
    "    target_size=(150, 150),\n",
    "    batch_size=20,\n",
    "    class_mode='binary')\n",
    "validation_generator = test_datagen.flow_from_directory(\n",
    "    validation_dir,\n",
    "    target_size=(150, 150),\n",
    "    batch_size=20,\n",
    "    class_mode='binary')\n",
    "\n",
    "model.compile(loss='binary_crossentropy',\n",
    "              optimizer=optimizers.RMSprop(learning_rate=2e-5),\n",
    "              metrics=['acc'])\n",
    "\n",
    "\n",
    "history = model.fit_generator(\n",
    "    train_generator,\n",
    "    steps_per_epoch=100,\n",
    "    epochs=30,\n",
    "    validation_data=validation_generator,\n",
    "    validation_steps=50)"
   ]
  },
  {
   "cell_type": "code",
   "execution_count": 14,
   "id": "667caf2d",
   "metadata": {},
   "outputs": [
    {
     "data": {
      "image/png": "[encoded data removed]",
      "text/plain": [
       "<Figure size 432x288 with 1 Axes>"
      ]
     },
     "metadata": {
      "needs_background": "light"
     },
     "output_type": "display_data"
    },
    {
     "data": {
      "image/png": "[encoded data removed]",
      "text/plain": [
       "<Figure size 432x288 with 1 Axes>"
      ]
     },
     "metadata": {
      "needs_background": "light"
     },
     "output_type": "display_data"
    }
   ],
   "source": [
    "# 绘制结果\n",
    "import matplotlib.pyplot as plt\n",
    "\n",
    "acc = history.history['acc']\n",
    "val_acc = history.history['val_acc']\n",
    "loss = history.history['loss']\n",
    "val_loss = history.history['val_loss']\n",
    "\n",
    "epochs = range(1, len(acc) + 1)\n",
    "\n",
    "plt.plot(epochs, acc, 'bo', label='Traning acc')\n",
    "plt.plot(epochs, val_acc, 'b', label='Valicdation acc')\n",
    "plt.title('Traning and validation accuracy')\n",
    "plt.legend()\n",
    "\n",
    "plt.figure()\n",
    "\n",
    "plt.plot(epochs, loss, 'bo', label='Traning loss')\n",
    "plt.plot(epochs, val_loss, 'b', label='Valicdation loss')\n",
    "plt.title('Traning and validation loss')\n",
    "plt.legend()\n",
    "\n",
    "plt.show()"
   ]
  },
  {
   "cell_type": "markdown",
   "id": "ae12a796",
   "metadata": {},
   "source": [
    "## 微调模型"
   ]
  },
  {
   "cell_type": "code",
   "execution_count": 15,
   "id": "e8ae871f",
   "metadata": {},
   "outputs": [
    {
     "name": "stdout",
     "output_type": "stream",
     "text": [
      "Epoch 1/30\n"
     ]
    },
    {
     "name": "stderr",
     "output_type": "stream",
     "text": [
      "/tmp/ipykernel_26460/2983776642.py:17: UserWarning: `Model.fit_generator` is deprecated and will be removed in a future version. Please use `Model.fit`, which supports generators.\n",
      "  history = model.fit_generator(\n"
     ]
    },
    {
     "name": "stdout",
     "output_type": "stream",
     "text": [
      "\r",
      "  1/100 [..............................] - ETA: 2:24 - loss: 0.1865 - acc: 0.9000"
     ]
    },
    {
     "name": "stderr",
     "output_type": "stream",
     "text": [
      "2022-05-17 16:05:00.728654: W tensorflow/core/common_runtime/bfc_allocator.cc:290] Allocator (GPU_0_bfc) ran out of memory trying to allocate 1.16GiB with freed_by_count=0. The caller indicates that this is not a failure, but this may mean that there could be performance gains if more memory were available.\n"
     ]
    },
    {
     "name": "stdout",
     "output_type": "stream",
     "text": [
      "100/100 [==============================] - 63s 622ms/step - loss: 0.2887 - acc: 0.8690 - val_loss: 0.2234 - val_acc: 0.9050\n",
      "Epoch 2/30\n",
      "100/100 [==============================] - 62s 621ms/step - loss: 0.2626 - acc: 0.8885 - val_loss: 0.2086 - val_acc: 0.9150\n",
      "Epoch 3/30\n",
      "100/100 [==============================] - 62s 621ms/step - loss: 0.2402 - acc: 0.9020 - val_loss: 0.2234 - val_acc: 0.9080\n",
      "Epoch 4/30\n",
      "100/100 [==============================] - 62s 622ms/step - loss: 0.2220 - acc: 0.9035 - val_loss: 0.2023 - val_acc: 0.9210\n",
      "Epoch 5/30\n",
      "100/100 [==============================] - 62s 622ms/step - loss: 0.1943 - acc: 0.9175 - val_loss: 0.1971 - val_acc: 0.9230\n",
      "Epoch 6/30\n",
      "100/100 [==============================] - 62s 622ms/step - loss: 0.1949 - acc: 0.9215 - val_loss: 0.1991 - val_acc: 0.9260\n",
      "Epoch 7/30\n",
      "100/100 [==============================] - 62s 622ms/step - loss: 0.1764 - acc: 0.9310 - val_loss: 0.1896 - val_acc: 0.9350\n",
      "Epoch 8/30\n",
      "100/100 [==============================] - 62s 622ms/step - loss: 0.1541 - acc: 0.9405 - val_loss: 0.3839 - val_acc: 0.8760\n",
      "Epoch 9/30\n",
      "100/100 [==============================] - 62s 622ms/step - loss: 0.1553 - acc: 0.9390 - val_loss: 0.1999 - val_acc: 0.9240\n",
      "Epoch 10/30\n",
      "100/100 [==============================] - 62s 623ms/step - loss: 0.1603 - acc: 0.9360 - val_loss: 0.1969 - val_acc: 0.9190\n",
      "Epoch 11/30\n",
      "100/100 [==============================] - 62s 622ms/step - loss: 0.1408 - acc: 0.9470 - val_loss: 0.1896 - val_acc: 0.9270\n",
      "Epoch 12/30\n",
      "100/100 [==============================] - 62s 623ms/step - loss: 0.1521 - acc: 0.9375 - val_loss: 0.1792 - val_acc: 0.9280\n",
      "Epoch 13/30\n",
      "100/100 [==============================] - 62s 623ms/step - loss: 0.1303 - acc: 0.9505 - val_loss: 0.1750 - val_acc: 0.9350\n",
      "Epoch 14/30\n",
      "100/100 [==============================] - 62s 623ms/step - loss: 0.1161 - acc: 0.9575 - val_loss: 0.1876 - val_acc: 0.9340\n",
      "Epoch 15/30\n",
      "100/100 [==============================] - 62s 623ms/step - loss: 0.1183 - acc: 0.9545 - val_loss: 0.1871 - val_acc: 0.9390\n",
      "Epoch 16/30\n",
      "100/100 [==============================] - 62s 623ms/step - loss: 0.1110 - acc: 0.9565 - val_loss: 0.1667 - val_acc: 0.9380\n",
      "Epoch 17/30\n",
      "100/100 [==============================] - 62s 623ms/step - loss: 0.1196 - acc: 0.9565 - val_loss: 0.1704 - val_acc: 0.9390\n",
      "Epoch 18/30\n",
      "100/100 [==============================] - 62s 623ms/step - loss: 0.0990 - acc: 0.9620 - val_loss: 0.1744 - val_acc: 0.9360\n",
      "Epoch 19/30\n",
      "100/100 [==============================] - 62s 624ms/step - loss: 0.1093 - acc: 0.9565 - val_loss: 0.1879 - val_acc: 0.9370\n",
      "Epoch 20/30\n",
      "100/100 [==============================] - 62s 624ms/step - loss: 0.0890 - acc: 0.9670 - val_loss: 0.1882 - val_acc: 0.9340\n",
      "Epoch 21/30\n",
      "100/100 [==============================] - 62s 624ms/step - loss: 0.0925 - acc: 0.9610 - val_loss: 0.1873 - val_acc: 0.9350\n",
      "Epoch 22/30\n",
      "100/100 [==============================] - 62s 624ms/step - loss: 0.0814 - acc: 0.9690 - val_loss: 0.2287 - val_acc: 0.9250\n",
      "Epoch 23/30\n",
      "100/100 [==============================] - 62s 624ms/step - loss: 0.0909 - acc: 0.9665 - val_loss: 0.1748 - val_acc: 0.9350\n",
      "Epoch 24/30\n",
      "100/100 [==============================] - 62s 624ms/step - loss: 0.0927 - acc: 0.9615 - val_loss: 0.1997 - val_acc: 0.9250\n",
      "Epoch 25/30\n",
      "100/100 [==============================] - 62s 624ms/step - loss: 0.0886 - acc: 0.9700 - val_loss: 0.2051 - val_acc: 0.9320\n",
      "Epoch 26/30\n",
      "100/100 [==============================] - 62s 624ms/step - loss: 0.0767 - acc: 0.9690 - val_loss: 0.1802 - val_acc: 0.9340\n",
      "Epoch 27/30\n",
      "100/100 [==============================] - 62s 624ms/step - loss: 0.0669 - acc: 0.9755 - val_loss: 0.2088 - val_acc: 0.9280\n",
      "Epoch 28/30\n",
      "100/100 [==============================] - 62s 623ms/step - loss: 0.0756 - acc: 0.9730 - val_loss: 0.1837 - val_acc: 0.9360\n",
      "Epoch 29/30\n",
      "100/100 [==============================] - 62s 624ms/step - loss: 0.0675 - acc: 0.9755 - val_loss: 0.1942 - val_acc: 0.9260\n",
      "Epoch 30/30\n",
      "100/100 [==============================] - 62s 624ms/step - loss: 0.0645 - acc: 0.9725 - val_loss: 0.1839 - val_acc: 0.9380\n"
     ]
    }
   ],
   "source": [
    "# 冻结直到某一层的所有层\n",
    "conv_base.trainable = True\n",
    "set_trainable = False\n",
    "for layer in conv_base.layers:\n",
    "    if layer.name == 'block5_conv1':\n",
    "        set_trainable = True\n",
    "    if set_trainable:\n",
    "        layer.trainable = True\n",
    "    else:\n",
    "        layer.trainable = False\n",
    "\n",
    "model.compile(loss='binary_crossentropy',\n",
    "              optimizer=optimizers.RMSprop(learning_rate=1e-5),\n",
    "              metrics=['acc'])\n",
    "\n",
    "\n",
    "history = model.fit_generator(\n",
    "    train_generator,\n",
    "    steps_per_epoch=100,\n",
    "    epochs=30,\n",
    "    validation_data=validation_generator,\n",
    "    validation_steps=50)"
   ]
  },
  {
   "cell_type": "code",
   "execution_count": 16,
   "id": "113a6bc1",
   "metadata": {},
   "outputs": [
    {
     "data": {
      "image/png": "[encoded data removed]",
      "text/plain": [
       "<Figure size 432x288 with 1 Axes>"
      ]
     },
     "metadata": {
      "needs_background": "light"
     },
     "output_type": "display_data"
    },
    {
     "data": {
      "image/png": "[encoded data removed]",
      "text/plain": [
       "<Figure size 432x288 with 1 Axes>"
      ]
     },
     "metadata": {
      "needs_background": "light"
     },
     "output_type": "display_data"
    }
   ],
   "source": [
    "# 绘制结果\n",
    "acc = history.history['acc']\n",
    "val_acc = history.history['val_acc']\n",
    "loss = history.history['loss']\n",
    "val_loss = history.history['val_loss']\n",
    "\n",
    "epochs = range(1, len(acc) + 1)\n",
    "\n",
    "plt.plot(epochs, acc, 'bo', label='Traning acc')\n",
    "plt.plot(epochs, val_acc, 'b', label='Valicdation acc')\n",
    "plt.title('Traning and validation accuracy')\n",
    "plt.legend()\n",
    "\n",
    "plt.figure()\n",
    "\n",
    "plt.plot(epochs, loss, 'bo', label='Traning loss')\n",
    "plt.plot(epochs, val_loss, 'b', label='Valicdation loss')\n",
    "plt.title('Traning and validation loss')\n",
    "plt.legend()\n",
    "\n",
    "plt.show()"
   ]
  },
  {
   "cell_type": "code",
   "execution_count": 17,
   "id": "28c1f1e9",
   "metadata": {},
   "outputs": [
    {
     "data": {
      "image/png": "[encoded data removed]",
      "text/plain": [
       "<Figure size 432x288 with 1 Axes>"
      ]
     },
     "metadata": {
      "needs_background": "light"
     },
     "output_type": "display_data"
    },
    {
     "data": {
      "image/png": "[encoded data removed]",
      "text/plain": [
       "<Figure size 432x288 with 1 Axes>"
      ]
     },
     "metadata": {
      "needs_background": "light"
     },
     "output_type": "display_data"
    }
   ],
   "source": [
    "# 使曲线变得平滑\n",
    "def smooth_curve(points, factor=0.8):\n",
    "    smoothed_points = []\n",
    "    for point in points:\n",
    "        if smoothed_points:\n",
    "            previous = smoothed_points[-1]\n",
    "            smoothed_points.append(previous * factor + point * (1 - factor))\n",
    "        else:\n",
    "            smoothed_points.append(point)\n",
    "    return smoothed_points\n",
    "\n",
    "plt.plot(epochs, smooth_curve(acc), 'bo', label='Smoothed training acc')\n",
    "plt.plot(epochs, smooth_curve(val_acc), 'b', label='Smoothed validation acc')\n",
    "plt.legend()\n",
    "\n",
    "plt.figure()\n",
    "\n",
    "plt.plot(epochs, smooth_curve(loss), 'bo', label='Smoothed training loss')\n",
    "plt.plot(epochs, smooth_curve(val_loss), 'b', label='Smoothed validation loss')\n",
    "plt.legend()\n",
    "\n",
    "plt.show()"
   ]
  },
  {
   "cell_type": "code",
   "execution_count": 25,
   "id": "b9fe9390",
   "metadata": {},
   "outputs": [
    {
     "name": "stdout",
     "output_type": "stream",
     "text": [
      "Found 1000 images belonging to 2 classes.\n"
     ]
    },
    {
     "name": "stderr",
     "output_type": "stream",
     "text": [
      "/tmp/ipykernel_26460/2452504896.py:8: UserWarning: `Model.evaluate_generator` is deprecated and will be removed in a future version. Please use `Model.evaluate`, which supports generators.\n",
      "  test_loss, test_acc = model.evaluate_generator(test_generator, steps=50)\n"
     ]
    },
    {
     "name": "stdout",
     "output_type": "stream",
     "text": [
      "test acc:  0.9449999928474426\n"
     ]
    }
   ],
   "source": [
    "# 测试模型\n",
    "test_generator = test_datagen.flow_from_directory(\n",
    "    test_dir,\n",
    "    target_size=(150,150),\n",
    "    batch_size = 20,\n",
    "    class_mode='binary')\n",
    "\n",
    "test_loss, test_acc = model.evaluate_generator(test_generator, steps=50)\n",
    "print('test acc: ', test_acc)"
   ]
  }
 ],
 "metadata": {
  "kernelspec": {
   "display_name": "Python 3 (ipykernel)",
   "language": "python",
   "name": "python3"
  },
  "language_info": {
   "codemirror_mode": {
    "name": "ipython",
    "version": 3
   },
   "file_extension": ".py",
   "mimetype": "text/x-python",
   "name": "python",
   "nbconvert_exporter": "python",
   "pygments_lexer": "ipython3",
   "version": "3.9.12"
  }
 },
 "nbformat": 4,
 "nbformat_minor": 5
}
